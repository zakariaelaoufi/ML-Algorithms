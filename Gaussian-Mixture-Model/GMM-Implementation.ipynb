{
 "cells": [
  {
   "cell_type": "code",
   "execution_count": 614,
   "id": "initial_id",
   "metadata": {
    "ExecuteTime": {
     "end_time": "2025-04-19T16:56:38.760329Z",
     "start_time": "2025-04-19T16:56:38.578324Z"
    },
    "collapsed": true,
    "jupyter": {
     "outputs_hidden": true
    }
   },
   "outputs": [],
   "source": [
    "import pandas as pd\n",
    "import numpy as np\n",
    "from scipy.stats import multivariate_normal\n",
    "import matplotlib.pyplot as plt\n",
    "import seaborn as sns\n",
    "sns.set_style(\"whitegrid\")\n",
    "\n",
    "import warnings\n",
    "warnings.filterwarnings('ignore')"
   ]
  },
  {
   "cell_type": "markdown",
   "id": "c9cb94cbbc51d7be",
   "metadata": {},
   "source": [
    "# Téléchargement des fichiers"
   ]
  },
  {
   "cell_type": "markdown",
   "id": "52d1386b356838fa",
   "metadata": {},
   "source": [
    "## Jeux de données de jouer au Tennis"
   ]
  },
  {
   "cell_type": "code",
   "execution_count": 615,
   "id": "a933314b24d4a103",
   "metadata": {
    "ExecuteTime": {
     "end_time": "2025-04-19T16:56:39.584465Z",
     "start_time": "2025-04-19T16:56:39.199643Z"
    }
   },
   "outputs": [
    {
     "data": {
      "text/html": [
       "<div>\n",
       "<style scoped>\n",
       "    .dataframe tbody tr th:only-of-type {\n",
       "        vertical-align: middle;\n",
       "    }\n",
       "\n",
       "    .dataframe tbody tr th {\n",
       "        vertical-align: top;\n",
       "    }\n",
       "\n",
       "    .dataframe thead th {\n",
       "        text-align: right;\n",
       "    }\n",
       "</style>\n",
       "<table border=\"1\" class=\"dataframe\">\n",
       "  <thead>\n",
       "    <tr style=\"text-align: right;\">\n",
       "      <th></th>\n",
       "      <th>day</th>\n",
       "      <th>outlook</th>\n",
       "      <th>temp</th>\n",
       "      <th>humidity</th>\n",
       "      <th>wind</th>\n",
       "      <th>play</th>\n",
       "    </tr>\n",
       "  </thead>\n",
       "  <tbody>\n",
       "    <tr>\n",
       "      <th>0</th>\n",
       "      <td>D1</td>\n",
       "      <td>Sunny</td>\n",
       "      <td>Hot</td>\n",
       "      <td>High</td>\n",
       "      <td>Weak</td>\n",
       "      <td>0</td>\n",
       "    </tr>\n",
       "    <tr>\n",
       "      <th>1</th>\n",
       "      <td>D2</td>\n",
       "      <td>Sunny</td>\n",
       "      <td>Hot</td>\n",
       "      <td>High</td>\n",
       "      <td>Strong</td>\n",
       "      <td>0</td>\n",
       "    </tr>\n",
       "    <tr>\n",
       "      <th>2</th>\n",
       "      <td>D3</td>\n",
       "      <td>Overcast</td>\n",
       "      <td>Hot</td>\n",
       "      <td>High</td>\n",
       "      <td>Weak</td>\n",
       "      <td>1</td>\n",
       "    </tr>\n",
       "    <tr>\n",
       "      <th>3</th>\n",
       "      <td>D4</td>\n",
       "      <td>Rain</td>\n",
       "      <td>Mild</td>\n",
       "      <td>High</td>\n",
       "      <td>Weak</td>\n",
       "      <td>1</td>\n",
       "    </tr>\n",
       "    <tr>\n",
       "      <th>4</th>\n",
       "      <td>D5</td>\n",
       "      <td>Rain</td>\n",
       "      <td>Cool</td>\n",
       "      <td>Normal</td>\n",
       "      <td>Weak</td>\n",
       "      <td>1</td>\n",
       "    </tr>\n",
       "  </tbody>\n",
       "</table>\n",
       "</div>"
      ],
      "text/plain": [
       "  day   outlook  temp humidity    wind  play\n",
       "0  D1     Sunny   Hot     High    Weak     0\n",
       "1  D2     Sunny   Hot     High  Strong     0\n",
       "2  D3  Overcast   Hot     High    Weak     1\n",
       "3  D4      Rain  Mild     High    Weak     1\n",
       "4  D5      Rain  Cool   Normal    Weak     1"
      ]
     },
     "execution_count": 615,
     "metadata": {},
     "output_type": "execute_result"
    }
   ],
   "source": [
    "tenis_df = pd.read_csv('./data/play_tennis.csv')\n",
    "tenis_df['play'] = tenis_df['play'].map({'No': 0, 'Yes': 1})\n",
    "tenis_df.head()"
   ]
  },
  {
   "cell_type": "markdown",
   "id": "70f92202d2852d86",
   "metadata": {},
   "source": [
    "## Jeux de données des caractères manuscrits"
   ]
  },
  {
   "cell_type": "code",
   "execution_count": 616,
   "id": "88ea685f1ac00e2f",
   "metadata": {
    "ExecuteTime": {
     "end_time": "2025-04-19T16:56:39.611670Z",
     "start_time": "2025-04-19T16:56:39.594682Z"
    }
   },
   "outputs": [],
   "source": [
    "path1 = \"./data/traindat.txt\"\n",
    "path2 = \"./data/Testdat.txt\""
   ]
  },
  {
   "cell_type": "code",
   "execution_count": 617,
   "id": "17a4aacdfdabd25d",
   "metadata": {
    "ExecuteTime": {
     "end_time": "2025-04-19T16:56:39.660075Z",
     "start_time": "2025-04-19T16:56:39.616211Z"
    }
   },
   "outputs": [],
   "source": [
    "def read_sys_file(filename):\n",
    "    data = []\n",
    "    with open(filename, 'r') as file:\n",
    "        for line in file:\n",
    "            parts = line.strip().split()\n",
    "            if len(parts) == 9:\n",
    "                classes, m00, mu02, mu11, mu20, mu03, mu12, mu21, mu30 = str(parts[0]), float(parts[1]), float(parts[2]), float(parts[3]), float(parts[4]), float(parts[5]), float(parts[6]), float(parts[7]), float(parts[8])\n",
    "                data.append((classes, m00, mu02, mu11, mu20, mu03, mu12, mu21, mu30))\n",
    "    \n",
    "    return pd.DataFrame(data, columns=[\"classes\", \"m00\",\"mu02\",\"mu11\",\"mu20\",\"mu03\",\"mu12\",\"mu21\",\"mu30\"])"
   ]
  },
  {
   "cell_type": "code",
   "execution_count": 618,
   "id": "bf831d7a5c51b431",
   "metadata": {
    "ExecuteTime": {
     "end_time": "2025-04-19T16:56:39.726731Z",
     "start_time": "2025-04-19T16:56:39.666099Z"
    }
   },
   "outputs": [],
   "source": [
    "train_data = read_sys_file(path1)\n",
    "test_data = read_sys_file(path2)\n",
    "all_data = pd.concat([train_data, test_data], axis=0, ignore_index=True)"
   ]
  },
  {
   "cell_type": "markdown",
   "id": "edbbacc4df6c2120",
   "metadata": {},
   "source": [
    "# Implémentation de GMM"
   ]
  },
  {
   "cell_type": "markdown",
   "id": "71af819d391f8152",
   "metadata": {},
   "source": [
    "**Etape 0 :** initialiser chaque gaussienne, je prendrai 60% des données afin de calculer la moyenne et la matrice de covariance."
   ]
  },
  {
   "cell_type": "code",
   "execution_count": 619,
   "id": "429a4d27da260be1",
   "metadata": {
    "ExecuteTime": {
     "end_time": "2025-04-19T16:56:39.761232Z",
     "start_time": "2025-04-19T16:56:39.740745Z"
    }
   },
   "outputs": [],
   "source": [
    "def initialize_g(data, n_estimators):\n",
    "    G = {}\n",
    "    for i in range(n_estimators):\n",
    "        indices = np.random.choice(data.shape[0], size=int(data.shape[0]*0.6), replace=False)\n",
    "        subset = data[indices]\n",
    "        subset_mean = np.mean(subset, axis=0)\n",
    "        subset_cov = np.cov(subset, rowvar=False)\n",
    "        G[i] = (subset_mean, subset_cov)\n",
    "    return G"
   ]
  },
  {
   "cell_type": "markdown",
   "id": "ef4c12c4f60e5c00",
   "metadata": {},
   "source": [
    "Cette fonction calcule et retourne la probabilité d'appartenance d'un point pour chaque gaussienne."
   ]
  },
  {
   "cell_type": "code",
   "execution_count": 620,
   "id": "63e775faa1016a7",
   "metadata": {
    "ExecuteTime": {
     "end_time": "2025-04-19T16:56:39.843939Z",
     "start_time": "2025-04-19T16:56:39.829495Z"
    }
   },
   "outputs": [],
   "source": [
    "def calculate_prob(x, parameters):\n",
    "    return np.array([\n",
    "        multivariate_normal(mean=mean, cov=cov, allow_singular=True).pdf(x)\n",
    "        for mean, cov in parameters\n",
    "    ]).reshape(-1, 1)"
   ]
  },
  {
   "cell_type": "markdown",
   "id": "224f166d5244a5c3",
   "metadata": {},
   "source": [
    "**Etape 1 :** Expectation. On calcule la probabilité que chaque donnée appartienne à\n",
    "chaque gaussienne"
   ]
  },
  {
   "cell_type": "code",
   "execution_count": 621,
   "id": "62cebed4b7e3d19",
   "metadata": {
    "ExecuteTime": {
     "end_time": "2025-04-19T16:56:40.179454Z",
     "start_time": "2025-04-19T16:56:40.159415Z"
    }
   },
   "outputs": [],
   "source": [
    "def e_step(data, pi, G):\n",
    "    n_samples, n_estimators = data.shape[0], len(G)\n",
    "    y = np.zeros((n_samples, n_estimators))\n",
    "    parameters = list(G.values())\n",
    "    pi = pi + 1e-10\n",
    "\n",
    "    for i in range(n_samples):\n",
    "        f = calculate_prob(data[i], parameters) # On calcule la probabilité que chaque donnée appartienne à chaque gaussienne\n",
    "        weighted = pi.reshape(-1, 1) * f \n",
    "        denominator = np.sum(weighted)\n",
    "        y[i, :] = (weighted / denominator).flatten() # remplire la matrice y qui contient la probabilité de tout les points\n",
    "    \n",
    "    return y"
   ]
  },
  {
   "cell_type": "markdown",
   "id": "cf7a1d7e4176d855",
   "metadata": {},
   "source": [
    "**Etape 2 :** Maximization. On re-estime la moyenne, la matrice de covariance de chaque gaussienne"
   ]
  },
  {
   "cell_type": "code",
   "execution_count": 622,
   "id": "5e2ec6ab3b3135b3",
   "metadata": {
    "ExecuteTime": {
     "end_time": "2025-04-19T16:56:40.583905Z",
     "start_time": "2025-04-19T16:56:40.562942Z"
    }
   },
   "outputs": [],
   "source": [
    "def m_step(data, y):\n",
    "    n_samples, n_features = data.shape\n",
    "    n_estimators = y.shape[1]\n",
    "    \n",
    "    N_k = np.sum(y, axis=0) + 1e-10   # On calcule la somme des probabilités pour chaque gaussienne / shape (n_estimators,1)\n",
    "    new_pi = N_k / n_samples # On calcule les neauvaux pi \n",
    "    new_G = {}\n",
    "    \n",
    "    new_means = np.dot(y.T, data) / N_k.reshape(n_estimators,1)  # shape (n_estimators, n_features)\n",
    "\n",
    "    for k in range(n_estimators):\n",
    "        diff = data - new_means[k]\n",
    "        weighted_diff = y[:, k].reshape(-1, 1) * diff\n",
    "        cov_k = np.dot(weighted_diff.T, diff) / N_k[k]\n",
    "        cov_k += np.eye(n_features) * 1e-6\n",
    "        new_G[k] = (new_means[k], cov_k)\n",
    "\n",
    "    return new_pi, new_G"
   ]
  },
  {
   "cell_type": "markdown",
   "id": "75fe82d7e443fbd0",
   "metadata": {},
   "source": [
    "On calcule la vraisemblance totale pour utiliser comme etant une condition de convergance"
   ]
  },
  {
   "cell_type": "code",
   "execution_count": 623,
   "id": "b44f4c43c4bc2a14",
   "metadata": {
    "ExecuteTime": {
     "end_time": "2025-04-19T16:56:40.849636Z",
     "start_time": "2025-04-19T16:56:40.826882Z"
    }
   },
   "outputs": [],
   "source": [
    "def compute_log_likelihood(data, pi, G):\n",
    "    n_samples = data.shape[0]\n",
    "    parameters = list(G.values())\n",
    "    log_likelihood = 0\n",
    "    \n",
    "    for i in range(n_samples):\n",
    "        probs = calculate_prob(data[i], parameters)\n",
    "        weighted_probs = pi.reshape(-1, 1) * probs\n",
    "        sample_likelihood = np.sum(weighted_probs)\n",
    "        log_likelihood += np.log(sample_likelihood + 1e-10)\n",
    "    \n",
    "    return log_likelihood"
   ]
  },
  {
   "cell_type": "markdown",
   "id": "e530a8992c123e00",
   "metadata": {},
   "source": [
    "Fonction principale qui regroupe toutes les étapes précédentes."
   ]
  },
  {
   "cell_type": "code",
   "execution_count": 624,
   "id": "757ad0d79c057675",
   "metadata": {
    "ExecuteTime": {
     "end_time": "2025-04-19T16:56:41.082540Z",
     "start_time": "2025-04-19T16:56:41.061207Z"
    }
   },
   "outputs": [],
   "source": [
    "def gaussian_mixture_model(data, n_estimators, eps=1e-4, max_iter=100):\n",
    "    data = np.asarray(data)\n",
    "    \n",
    "    # Etape 0 :\n",
    "    pi = np.ones(n_estimators) / n_estimators # initialiser le tableau pi par 1 / k gaussienne\n",
    "    G = initialize_g(data, n_estimators)\n",
    "\n",
    "    prev_log_likelihood = 0\n",
    "    for iteration in range(max_iter):\n",
    "        # Etape 1 : Expectation\n",
    "        y = e_step(data, pi, G)\n",
    "        \n",
    "        # Etape 2 : Maximization\n",
    "        new_pi, new_G = m_step(data, y) \n",
    "\n",
    "        # On calcule la difference entre la vraisemblance prédante et actuelle\n",
    "        log_likelihood = compute_log_likelihood(data, new_pi, new_G)\n",
    "        improvement = log_likelihood - prev_log_likelihood\n",
    "        \n",
    "        # Condition de convergence\n",
    "        if iteration > 0 and abs(improvement) < eps:\n",
    "            print(f\"Convergé après {iteration} itérations\")\n",
    "            break\n",
    "            \n",
    "        pi, G = new_pi, new_G\n",
    "        prev_log_likelihood = log_likelihood\n",
    "    return G"
   ]
  },
  {
   "cell_type": "code",
   "execution_count": 625,
   "id": "8792bf5e83f8f436",
   "metadata": {
    "ExecuteTime": {
     "end_time": "2025-04-19T16:56:41.196Z",
     "start_time": "2025-04-19T16:56:41.183331Z"
    }
   },
   "outputs": [],
   "source": [
    "def predict(x, G):\n",
    "    x = np.asarray(x)\n",
    "    predictions = np.zeros((x.shape[0], 1))\n",
    "    \n",
    "    for i in range(x.shape[0]):\n",
    "        parameters = list(G.values())\n",
    "        f = calculate_prob(x[i], parameters)\n",
    "        predictions[i] = np.argmax(f)\n",
    "    \n",
    "    return predictions "
   ]
  },
  {
   "cell_type": "code",
   "execution_count": 626,
   "id": "f9fcb1b2194439e3",
   "metadata": {
    "ExecuteTime": {
     "end_time": "2025-04-19T16:56:41.259861Z",
     "start_time": "2025-04-19T16:56:41.248862Z"
    }
   },
   "outputs": [],
   "source": [
    "def gmm_fit_predict(data, n_estimators):\n",
    "    G = gaussian_mixture_model(data, n_estimators)\n",
    "    predictions = predict(data, G)\n",
    "    return predictions"
   ]
  },
  {
   "cell_type": "markdown",
   "id": "dd78eb0214fb33f6",
   "metadata": {},
   "source": [
    "# Jeux de données de jouer au Tennis"
   ]
  },
  {
   "cell_type": "markdown",
   "id": "b1623cd223e174b4",
   "metadata": {},
   "source": [
    "## Data Encoding"
   ]
  },
  {
   "cell_type": "code",
   "execution_count": 627,
   "id": "bdacbdb0766cd54f",
   "metadata": {
    "ExecuteTime": {
     "end_time": "2025-04-19T16:56:41.516318Z",
     "start_time": "2025-04-19T16:56:41.417227Z"
    }
   },
   "outputs": [],
   "source": [
    "from sklearn.preprocessing import OrdinalEncoder\n",
    "\n",
    "enc = OrdinalEncoder()\n",
    "\n",
    "encoded_data = enc.fit_transform(tenis_df.drop('day', axis=1))\n",
    "\n",
    "encoded_df = pd.DataFrame(data=encoded_data, columns=tenis_df.drop('day', axis=1).columns)"
   ]
  },
  {
   "cell_type": "code",
   "execution_count": 628,
   "id": "45bbaa42e2adf8ab",
   "metadata": {
    "ExecuteTime": {
     "end_time": "2025-04-19T16:56:41.545948Z",
     "start_time": "2025-04-19T16:56:41.520332Z"
    }
   },
   "outputs": [],
   "source": [
    "X_tennis = encoded_df.drop('play', axis=1)"
   ]
  },
  {
   "cell_type": "markdown",
   "id": "994c4c2f4d50c939",
   "metadata": {},
   "source": [
    "## Gaussian Mixture Model"
   ]
  },
  {
   "cell_type": "code",
   "execution_count": 629,
   "id": "b17e296cb32737d0",
   "metadata": {
    "ExecuteTime": {
     "end_time": "2025-04-19T16:56:42.413791Z",
     "start_time": "2025-04-19T16:56:41.747993Z"
    }
   },
   "outputs": [
    {
     "name": "stdout",
     "output_type": "stream",
     "text": [
      "Convergé après 13 itérations\n"
     ]
    }
   ],
   "source": [
    "G = gaussian_mixture_model(X_tennis, 2)\n",
    "tenis_df[\"my_pred\"] = predict(X_tennis, G)"
   ]
  },
  {
   "cell_type": "code",
   "execution_count": 630,
   "id": "6576d9cd294e4c5a",
   "metadata": {
    "ExecuteTime": {
     "end_time": "2025-04-19T16:56:42.750004Z",
     "start_time": "2025-04-19T16:56:42.422943Z"
    }
   },
   "outputs": [],
   "source": [
    "from sklearn.mixture import GaussianMixture\n",
    "\n",
    "gmm = GaussianMixture(n_components=2)\n",
    "gmm.fit(X_tennis)\n",
    "predictions = gmm.predict(X_tennis)\n",
    "tenis_df['sklearn_pred'] = predictions"
   ]
  },
  {
   "cell_type": "code",
   "execution_count": 631,
   "id": "7c1c7fec579bb7e5",
   "metadata": {
    "ExecuteTime": {
     "end_time": "2025-04-19T16:56:42.806428Z",
     "start_time": "2025-04-19T16:56:42.755023Z"
    }
   },
   "outputs": [
    {
     "data": {
      "text/html": [
       "<div>\n",
       "<style scoped>\n",
       "    .dataframe tbody tr th:only-of-type {\n",
       "        vertical-align: middle;\n",
       "    }\n",
       "\n",
       "    .dataframe tbody tr th {\n",
       "        vertical-align: top;\n",
       "    }\n",
       "\n",
       "    .dataframe thead th {\n",
       "        text-align: right;\n",
       "    }\n",
       "</style>\n",
       "<table border=\"1\" class=\"dataframe\">\n",
       "  <thead>\n",
       "    <tr style=\"text-align: right;\">\n",
       "      <th></th>\n",
       "      <th>day</th>\n",
       "      <th>outlook</th>\n",
       "      <th>temp</th>\n",
       "      <th>humidity</th>\n",
       "      <th>wind</th>\n",
       "      <th>play</th>\n",
       "      <th>my_pred</th>\n",
       "      <th>sklearn_pred</th>\n",
       "    </tr>\n",
       "  </thead>\n",
       "  <tbody>\n",
       "    <tr>\n",
       "      <th>0</th>\n",
       "      <td>D1</td>\n",
       "      <td>Sunny</td>\n",
       "      <td>Hot</td>\n",
       "      <td>High</td>\n",
       "      <td>Weak</td>\n",
       "      <td>0</td>\n",
       "      <td>0.0</td>\n",
       "      <td>0</td>\n",
       "    </tr>\n",
       "    <tr>\n",
       "      <th>1</th>\n",
       "      <td>D2</td>\n",
       "      <td>Sunny</td>\n",
       "      <td>Hot</td>\n",
       "      <td>High</td>\n",
       "      <td>Strong</td>\n",
       "      <td>0</td>\n",
       "      <td>1.0</td>\n",
       "      <td>0</td>\n",
       "    </tr>\n",
       "    <tr>\n",
       "      <th>2</th>\n",
       "      <td>D3</td>\n",
       "      <td>Overcast</td>\n",
       "      <td>Hot</td>\n",
       "      <td>High</td>\n",
       "      <td>Weak</td>\n",
       "      <td>1</td>\n",
       "      <td>1.0</td>\n",
       "      <td>0</td>\n",
       "    </tr>\n",
       "    <tr>\n",
       "      <th>3</th>\n",
       "      <td>D4</td>\n",
       "      <td>Rain</td>\n",
       "      <td>Mild</td>\n",
       "      <td>High</td>\n",
       "      <td>Weak</td>\n",
       "      <td>1</td>\n",
       "      <td>0.0</td>\n",
       "      <td>0</td>\n",
       "    </tr>\n",
       "    <tr>\n",
       "      <th>4</th>\n",
       "      <td>D5</td>\n",
       "      <td>Rain</td>\n",
       "      <td>Cool</td>\n",
       "      <td>Normal</td>\n",
       "      <td>Weak</td>\n",
       "      <td>1</td>\n",
       "      <td>0.0</td>\n",
       "      <td>1</td>\n",
       "    </tr>\n",
       "  </tbody>\n",
       "</table>\n",
       "</div>"
      ],
      "text/plain": [
       "  day   outlook  temp humidity    wind  play  my_pred  sklearn_pred\n",
       "0  D1     Sunny   Hot     High    Weak     0      0.0             0\n",
       "1  D2     Sunny   Hot     High  Strong     0      1.0             0\n",
       "2  D3  Overcast   Hot     High    Weak     1      1.0             0\n",
       "3  D4      Rain  Mild     High    Weak     1      0.0             0\n",
       "4  D5      Rain  Cool   Normal    Weak     1      0.0             1"
      ]
     },
     "execution_count": 631,
     "metadata": {},
     "output_type": "execute_result"
    }
   ],
   "source": [
    "tenis_df.head()"
   ]
  },
  {
   "cell_type": "markdown",
   "id": "a243b9e3f8c98fd0",
   "metadata": {},
   "source": [
    "### Evaluation"
   ]
  },
  {
   "cell_type": "code",
   "execution_count": 632,
   "id": "207417598b542175",
   "metadata": {
    "ExecuteTime": {
     "end_time": "2025-04-19T16:56:42.891398Z",
     "start_time": "2025-04-19T16:56:42.815144Z"
    }
   },
   "outputs": [
    {
     "name": "stdout",
     "output_type": "stream",
     "text": [
      "la précision de modele implémenté est: 0.8\n",
      "la précision de modele sklearn est: 0.8\n"
     ]
    }
   ],
   "source": [
    "from sklearn.metrics import precision_score\n",
    "\n",
    "my_precision = precision_score(tenis_df['play'],tenis_df['my_pred'])\n",
    "sklearn_precision = precision_score(tenis_df['play'],tenis_df['sklearn_pred'])\n",
    "\n",
    "print('la précision de modele implémenté est:', my_precision)\n",
    "print('la précision de modele sklearn est:', sklearn_precision)"
   ]
  },
  {
   "cell_type": "markdown",
   "id": "3ab14e773c071cd5",
   "metadata": {},
   "source": [
    "**Remarque :** Notre modèle GMM implémenté donne généralement de très bons résultats comparativement à celui proposé par scikit-learn. Cependant, dans certains cas, c'est l'inverse. Cela s'explique par le fait que l'initialisation des gaussiennes est basée sur 60% des données sélectionnées aléatoirement."
   ]
  },
  {
   "cell_type": "markdown",
   "id": "1d078c1ec9931e70",
   "metadata": {},
   "source": [
    "# Jeux de données des caractères manuscrits"
   ]
  },
  {
   "cell_type": "markdown",
   "id": "4cb4c3921d8a8559",
   "metadata": {},
   "source": [
    "## GMM"
   ]
  },
  {
   "cell_type": "markdown",
   "id": "51e5a5d677476d41",
   "metadata": {},
   "source": [
    "Le **score Silhouette** est une mesure utilisée pour évaluer la qualité des résultats de classification de données. Ce score est calculé en mesurant la similarité de chaque point de données avec le cluster auquel il appartient et sa différence avec les autres clusters. Le score Silhouette est couramment utilisé pour évaluer les performances des algorithmes de clustering comme K-Means.\n",
    "\n",
    "* Les valeurs positives indiquent que les points de données appartiennent aux clusters appropriés.\n",
    "* Un score de zéro suggère des clusters qui se chevauchent ou des points de données à proximité de plusieurs clusters.\n",
    "* Les valeurs négatives indiquent que les points de données sont attribués à des clusters incorrects, ce qui indique de mauvais résultats de clustering."
   ]
  },
  {
   "cell_type": "code",
   "execution_count": 633,
   "id": "f96c2f532c667c1b",
   "metadata": {
    "ExecuteTime": {
     "end_time": "2025-04-19T16:56:42.929362Z",
     "start_time": "2025-04-19T16:56:42.904827Z"
    }
   },
   "outputs": [],
   "source": [
    "X_mnist = all_data.drop('classes', axis=1)"
   ]
  },
  {
   "cell_type": "code",
   "execution_count": 634,
   "id": "35ea1558bc27ae1",
   "metadata": {
    "ExecuteTime": {
     "end_time": "2025-04-19T16:56:43.341412Z",
     "start_time": "2025-04-19T16:56:42.936383Z"
    }
   },
   "outputs": [],
   "source": [
    "from sklearn.metrics import silhouette_score \n",
    "\n",
    "estimators = [2, 4, 6, 8, 10] \n",
    "silhouette_scores_sklearn = []\n",
    "\n",
    "for k in estimators:\n",
    "    pred = GaussianMixture(n_components=k).fit_predict(X_mnist)\n",
    "    silhouette_scores_sklearn.append(silhouette_score(X_mnist, pred))  "
   ]
  },
  {
   "cell_type": "code",
   "execution_count": 635,
   "id": "333fc2df1114af1e",
   "metadata": {
    "ExecuteTime": {
     "end_time": "2025-04-19T16:57:00.461630Z",
     "start_time": "2025-04-19T16:56:43.349955Z"
    }
   },
   "outputs": [
    {
     "name": "stdout",
     "output_type": "stream",
     "text": [
      "Convergé après 1 itérations\n",
      "Convergé après 1 itérations\n",
      "Convergé après 1 itérations\n",
      "Convergé après 1 itérations\n",
      "Convergé après 1 itérations\n"
     ]
    }
   ],
   "source": [
    "silhouette_scores_mine = []\n",
    "\n",
    "for k in estimators:\n",
    "    pred = gmm_fit_predict(X_mnist, k)\n",
    "    silhouette_scores_mine.append(silhouette_score(X_mnist, pred))  "
   ]
  },
  {
   "cell_type": "code",
   "execution_count": 636,
   "id": "25e7beca712e333",
   "metadata": {
    "ExecuteTime": {
     "end_time": "2025-04-19T16:57:01.794864Z",
     "start_time": "2025-04-19T16:57:00.464642Z"
    }
   },
   "outputs": [
    {
     "data": {
      "image/png": "[encoded data removed]",
      "text/plain": [
       "<Figure size 1400x500 with 2 Axes>"
      ]
     },
     "metadata": {},
     "output_type": "display_data"
    }
   ],
   "source": [
    "plt.subplots(1,2, figsize=(14,5))\n",
    "\n",
    "plt.subplot(1, 2, 1)\n",
    "plt.bar(estimators, silhouette_scores_sklearn) \n",
    "plt.xlabel('Nombre des classes') \n",
    "plt.ylabel('S(i)') \n",
    "plt.title('Silhouette score pour scikir-learn GMM')\n",
    "\n",
    "plt.subplot(1, 2, 2)\n",
    "plt.bar(estimators, silhouette_scores_mine) \n",
    "plt.xlabel('Nombre des classes') \n",
    "plt.ylabel('S(i)') \n",
    "plt.title('Silhouette score pour GMM implémenté')\n",
    "\n",
    "plt.show() "
   ]
  },
  {
   "cell_type": "markdown",
   "id": "1a5ccf5989bc2822",
   "metadata": {},
   "source": [
    "**Remarque :** On constate que pour les deux GMM, le nombre optimal de classes est 2, alors que le k réel est 10. Pour k=10, le modèle GMM implémenté a donné un score de silhouette négatif, ce qui indique que le modèle a mal prédit les données."
   ]
  },
  {
   "cell_type": "markdown",
   "id": "edb9e0a3c381edc2",
   "metadata": {},
   "source": [
    "## Dendrogram"
   ]
  },
  {
   "cell_type": "markdown",
   "id": "300fd1837b3c735a",
   "metadata": {},
   "source": [
    "### Comparaison entre différents types de liens"
   ]
  },
  {
   "cell_type": "code",
   "execution_count": 637,
   "id": "8254c1010cd3c961",
   "metadata": {
    "ExecuteTime": {
     "end_time": "2025-04-19T16:57:01.824892Z",
     "start_time": "2025-04-19T16:57:01.800143Z"
    }
   },
   "outputs": [],
   "source": [
    "from sklearn.cluster import AgglomerativeClustering"
   ]
  },
  {
   "cell_type": "code",
   "execution_count": 638,
   "id": "85f17af7ebf3518e",
   "metadata": {
    "ExecuteTime": {
     "end_time": "2025-04-19T16:57:01.979206Z",
     "start_time": "2025-04-19T16:57:01.834912Z"
    }
   },
   "outputs": [],
   "source": [
    "silhouette_score_dendrogram = [] \n",
    "linkage = ['single', 'average', 'complete', 'ward']\n",
    "\n",
    "for link in linkage:\n",
    "    model_dendro = AgglomerativeClustering(n_clusters=10, linkage=link, metric=\"euclidean\").fit(X_mnist)\n",
    "    pred_dendro = model_dendro.labels_\n",
    "    silhouette_score_dendrogram.append(silhouette_score(X_mnist, pred_dendro))  "
   ]
  },
  {
   "cell_type": "code",
   "execution_count": 639,
   "id": "3ed269d4604fcb70",
   "metadata": {
    "ExecuteTime": {
     "end_time": "2025-04-19T16:57:02.423996Z",
     "start_time": "2025-04-19T16:57:01.986221Z"
    }
   },
   "outputs": [
    {
     "data": {
      "image/png": "[encoded data removed]",
      "text/plain": [
       "<Figure size 640x480 with 1 Axes>"
      ]
     },
     "metadata": {},
     "output_type": "display_data"
    }
   ],
   "source": [
    "plt.bar(linkage, silhouette_score_dendrogram) \n",
    "plt.xlabel('Type de lien') \n",
    "plt.ylabel('S(i)') \n",
    "plt.title('Silhouette score pour different lien')\n",
    "\n",
    "plt.show() "
   ]
  },
  {
   "cell_type": "markdown",
   "id": "87c578b09ebceb7",
   "metadata": {},
   "source": [
    "**Remarque :** Pour ce jeu de données, le lien simple obtient le meilleur score de silhouette, suivie de Ward."
   ]
  },
  {
   "cell_type": "markdown",
   "id": "e0c09f41448db47a",
   "metadata": {},
   "source": [
    "### Comparaison entre différents k classes pour lien simple"
   ]
  },
  {
   "cell_type": "code",
   "execution_count": 640,
   "id": "50bb3f0c138065ca",
   "metadata": {
    "ExecuteTime": {
     "end_time": "2025-04-19T16:57:02.539367Z",
     "start_time": "2025-04-19T16:57:02.428525Z"
    }
   },
   "outputs": [],
   "source": [
    "silhouette_score_dendrogram = []\n",
    "n_clusters_list = [i for i in range(2,11)]\n",
    "\n",
    "for n in n_clusters_list:\n",
    "    model_dendro = AgglomerativeClustering(n_clusters=n, linkage='single', metric=\"euclidean\")\n",
    "    pred_dendro = model_dendro.fit_predict(X_mnist)\n",
    "    score = silhouette_score(X_mnist, pred_dendro)\n",
    "    silhouette_score_dendrogram.append(score)"
   ]
  },
  {
   "cell_type": "code",
   "execution_count": 641,
   "id": "144c5dd2ef5d8a93",
   "metadata": {
    "ExecuteTime": {
     "end_time": "2025-04-19T16:57:03.002387Z",
     "start_time": "2025-04-19T16:57:02.543377Z"
    }
   },
   "outputs": [
    {
     "data": {
      "image/png": "[encoded data removed]",
      "text/plain": [
       "<Figure size 640x480 with 1 Axes>"
      ]
     },
     "metadata": {},
     "output_type": "display_data"
    }
   ],
   "source": [
    "plt.bar(n_clusters_list, silhouette_score_dendrogram) \n",
    "plt.xlabel('Nombre des classes') \n",
    "plt.ylabel('S(i)') \n",
    "plt.title('Silhouette score pour k classes')\n",
    "\n",
    "plt.show() "
   ]
  },
  {
   "cell_type": "markdown",
   "id": "318a28f15c512b9a",
   "metadata": {},
   "source": [
    "**Reamrque :** On constate que le nombre de classe maximale est 2, ensuite 4 et 5, alors que k reél est 10."
   ]
  }
 ],
 "metadata": {
  "kernelspec": {
   "display_name": "Python 3 (ipykernel)",
   "language": "python",
   "name": "python3"
  },
  "language_info": {
   "codemirror_mode": {
    "name": "ipython",
    "version": 3
   },
   "file_extension": ".py",
   "mimetype": "text/x-python",
   "name": "python",
   "nbconvert_exporter": "python",
   "pygments_lexer": "ipython3",
   "version": "3.12.2"
  }
 },
 "nbformat": 4,
 "nbformat_minor": 5
}
